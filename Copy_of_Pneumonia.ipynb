{
  "nbformat": 4,
  "nbformat_minor": 0,
  "metadata": {
    "colab": {
      "name": "Copy of Pneumonia.ipynb",
      "provenance": [],
      "collapsed_sections": [],
      "authorship_tag": "ABX9TyOoEA0nJICK+SBNT0E62WN/",
      "include_colab_link": true
    },
    "kernelspec": {
      "name": "python3",
      "display_name": "Python 3"
    },
    "accelerator": "GPU"
  },
  "cells": [
    {
      "cell_type": "markdown",
      "metadata": {
        "id": "view-in-github",
        "colab_type": "text"
      },
      "source": [
        "<a href=\"https://colab.research.google.com/github/lakshmanprabhu219/Deep-Learning/blob/master/Copy_of_Pneumonia.ipynb\" target=\"_parent\"><img src=\"https://colab.research.google.com/assets/colab-badge.svg\" alt=\"Open In Colab\"/></a>"
      ]
    },
    {
      "cell_type": "code",
      "metadata": {
        "id": "YCxo4hsZc3IJ",
        "outputId": "e40e676a-0ac7-46f4-9dec-c111ac3e43bb",
        "colab": {
          "base_uri": "https://localhost:8080/",
          "height": 34
        }
      },
      "source": [
        "from google.colab import drive\n",
        "drive.mount(\"/content/drive/\")"
      ],
      "execution_count": null,
      "outputs": [
        {
          "output_type": "stream",
          "text": [
            "Mounted at /content/drive/\n"
          ],
          "name": "stdout"
        }
      ]
    },
    {
      "cell_type": "code",
      "metadata": {
        "id": "Nwiol_8W3kq_"
      },
      "source": [
        "%tensorflow_version 2.x\n",
        "import tensorflow as tf\n",
        "from tensorflow.keras.preprocessing.image import ImageDataGenerator\n"
      ],
      "execution_count": null,
      "outputs": []
    },
    {
      "cell_type": "code",
      "metadata": {
        "id": "-lEtkEeT38Xv"
      },
      "source": [
        "train_dir=\"/content/drive/My Drive/Tensorflow/Practice/Pneumonia/chest_xray/train\"\n",
        "validation_dir=\"/content/drive/My Drive/Tensorflow/Practice/Pneumonia/chest_xray/test\"\n",
        "train_datagen=ImageDataGenerator(rescale=1./255,rotation_range=0.2,zoom_range=0.2,width_shift_range=0.2,height_shift_range=0.2,shear_range=0.2,fill_mode='nearest')\n",
        "validation_datagen=ImageDataGenerator(rescale=1./255,rotation_range=0.2,zoom_range=0.2,width_shift_range=0.2,height_shift_range=0.2,shear_range=0.2,fill_mode='nearest')"
      ],
      "execution_count": null,
      "outputs": []
    },
    {
      "cell_type": "code",
      "metadata": {
        "id": "9Nu4IzOZ5tWa",
        "outputId": "48afc8ec-5dc5-4476-ad66-1ddbcafac412",
        "colab": {
          "base_uri": "https://localhost:8080/",
          "height": 51
        }
      },
      "source": [
        "train_generator=train_datagen.flow_from_directory(train_dir,target_size=(1000,1000),batch_size=50,class_mode='binary')\n",
        "validation_generator=validation_datagen.flow_from_directory(validation_dir,target_size=(1000,1000),batch_size=2,class_mode='binary')"
      ],
      "execution_count": null,
      "outputs": [
        {
          "output_type": "stream",
          "text": [
            "Found 5216 images belonging to 2 classes.\n",
            "Found 624 images belonging to 2 classes.\n"
          ],
          "name": "stdout"
        }
      ]
    },
    {
      "cell_type": "code",
      "metadata": {
        "id": "VhfHcKXC6nl_",
        "outputId": "152f3954-d3cf-4e4c-f290-d0632305dbc1",
        "colab": {
          "base_uri": "https://localhost:8080/",
          "height": 476
        }
      },
      "source": [
        "from tensorflow.keras.optimizers import RMSprop\n",
        "model=tf.keras.models.Sequential([tf.keras.layers.Conv2D(16,(3,3),activation='relu',input_shape=(1000,1000,3)),\n",
        "                                  tf.keras.layers.MaxPooling2D(2,2),\n",
        "                                  tf.keras.layers.Conv2D(32,(3,3),activation='relu'),\n",
        "                                  tf.keras.layers.MaxPooling2D(2,2),\n",
        "                                  tf.keras.layers.Conv2D(64,(3,3),activation='relu'),\n",
        "                                  tf.keras.layers.MaxPooling2D(4,4),\n",
        "                                  tf.keras.layers.Flatten(),\n",
        "                                  tf.keras.layers.Dropout(0.35),\n",
        "                                  tf.keras.layers.Dense(1,activation='sigmoid')])\n",
        "model.compile(optimizer='adam',loss='binary_crossentropy',metrics=['acc'])\n",
        "print(model.summary())"
      ],
      "execution_count": null,
      "outputs": [
        {
          "output_type": "stream",
          "text": [
            "Model: \"sequential\"\n",
            "_________________________________________________________________\n",
            "Layer (type)                 Output Shape              Param #   \n",
            "=================================================================\n",
            "conv2d (Conv2D)              (None, 998, 998, 16)      448       \n",
            "_________________________________________________________________\n",
            "max_pooling2d (MaxPooling2D) (None, 499, 499, 16)      0         \n",
            "_________________________________________________________________\n",
            "conv2d_1 (Conv2D)            (None, 497, 497, 32)      4640      \n",
            "_________________________________________________________________\n",
            "max_pooling2d_1 (MaxPooling2 (None, 248, 248, 32)      0         \n",
            "_________________________________________________________________\n",
            "conv2d_2 (Conv2D)            (None, 246, 246, 64)      18496     \n",
            "_________________________________________________________________\n",
            "max_pooling2d_2 (MaxPooling2 (None, 61, 61, 64)        0         \n",
            "_________________________________________________________________\n",
            "flatten (Flatten)            (None, 238144)            0         \n",
            "_________________________________________________________________\n",
            "dropout (Dropout)            (None, 238144)            0         \n",
            "_________________________________________________________________\n",
            "dense (Dense)                (None, 1)                 238145    \n",
            "=================================================================\n",
            "Total params: 261,729\n",
            "Trainable params: 261,729\n",
            "Non-trainable params: 0\n",
            "_________________________________________________________________\n",
            "None\n"
          ],
          "name": "stdout"
        }
      ]
    },
    {
      "cell_type": "code",
      "metadata": {
        "id": "uh8jnWgy8Yb5"
      },
      "source": [
        "class MyCallback(tf.keras.callbacks.Callback):\n",
        "  def On_Epoch_End(self,epoch,logs={}):\n",
        "    if(logs.get('acc')>0.97):\n",
        "      print(\"Accuracy greater than required!!!!! Stopping training\")\n",
        "      self.stop_training=True\n",
        "myCallback=MyCallback()"
      ],
      "execution_count": null,
      "outputs": []
    },
    {
      "cell_type": "code",
      "metadata": {
        "id": "NjUkYZux9MKl",
        "outputId": "04a35b28-2cfc-4f0e-d633-ba12fd1ebb0d",
        "colab": {
          "base_uri": "https://localhost:8080/",
          "height": 527
        }
      },
      "source": [
        "history=model.fit(train_generator,epochs=15,validation_data=validation_generator,validation_steps=8,callbacks=[myCallback])"
      ],
      "execution_count": null,
      "outputs": [
        {
          "output_type": "stream",
          "text": [
            "Epoch 1/15\n",
            "105/105 [==============================] - 2528s 24s/step - loss: 0.4243 - acc: 0.7922 - val_loss: 0.3062 - val_acc: 0.6875\n",
            "Epoch 2/15\n",
            "105/105 [==============================] - 1010s 10s/step - loss: 0.3339 - acc: 0.8368 - val_loss: 0.4390 - val_acc: 0.8125\n",
            "Epoch 3/15\n",
            "105/105 [==============================] - 1007s 10s/step - loss: 0.2695 - acc: 0.8819 - val_loss: 0.2312 - val_acc: 0.8750\n",
            "Epoch 4/15\n",
            "105/105 [==============================] - 1009s 10s/step - loss: 0.2246 - acc: 0.9064 - val_loss: 0.6212 - val_acc: 0.8125\n",
            "Epoch 5/15\n",
            "105/105 [==============================] - 1005s 10s/step - loss: 0.2045 - acc: 0.9133 - val_loss: 0.1882 - val_acc: 0.9375\n",
            "Epoch 6/15\n",
            "105/105 [==============================] - 1010s 10s/step - loss: 0.1994 - acc: 0.9097 - val_loss: 0.5237 - val_acc: 0.7500\n",
            "Epoch 7/15\n",
            "105/105 [==============================] - 1009s 10s/step - loss: 0.2029 - acc: 0.9168 - val_loss: 0.3819 - val_acc: 0.7500\n",
            "Epoch 8/15\n",
            "105/105 [==============================] - 1010s 10s/step - loss: 0.1957 - acc: 0.9147 - val_loss: 0.2476 - val_acc: 0.8125\n",
            "Epoch 9/15\n",
            "105/105 [==============================] - 1004s 10s/step - loss: 0.1798 - acc: 0.9237 - val_loss: 0.7008 - val_acc: 0.6875\n",
            "Epoch 10/15\n",
            "105/105 [==============================] - 1013s 10s/step - loss: 0.1707 - acc: 0.9298 - val_loss: 0.2591 - val_acc: 0.8750\n",
            "Epoch 11/15\n",
            "105/105 [==============================] - 1003s 10s/step - loss: 0.1824 - acc: 0.9243 - val_loss: 0.6372 - val_acc: 0.7500\n",
            "Epoch 12/15\n",
            "105/105 [==============================] - 1008s 10s/step - loss: 0.1737 - acc: 0.9285 - val_loss: 1.2562 - val_acc: 0.6875\n",
            "Epoch 13/15\n",
            "105/105 [==============================] - 1008s 10s/step - loss: 0.1686 - acc: 0.9304 - val_loss: 1.6285 - val_acc: 0.6250\n",
            "Epoch 14/15\n",
            "105/105 [==============================] - 1006s 10s/step - loss: 0.1509 - acc: 0.9390 - val_loss: 0.2241 - val_acc: 0.9375\n",
            "Epoch 15/15\n",
            "105/105 [==============================] - 1026s 10s/step - loss: 0.1557 - acc: 0.9402 - val_loss: 0.9508 - val_acc: 0.6250\n"
          ],
          "name": "stdout"
        }
      ]
    },
    {
      "cell_type": "code",
      "metadata": {
        "id": "pfbnimITYDoy",
        "outputId": "3005da1c-64ef-4c4e-af5c-40544461d023",
        "colab": {
          "base_uri": "https://localhost:8080/",
          "height": 156
        }
      },
      "source": [
        "model.save(\"/content/drive/My Drive/Tensorflow/Practice/Models/Pneumonia\")"
      ],
      "execution_count": null,
      "outputs": [
        {
          "output_type": "stream",
          "text": [
            "WARNING:tensorflow:From /usr/local/lib/python3.6/dist-packages/tensorflow/python/training/tracking/tracking.py:111: Model.state_updates (from tensorflow.python.keras.engine.training) is deprecated and will be removed in a future version.\n",
            "Instructions for updating:\n",
            "This property should not be used in TensorFlow 2.0, as updates are applied automatically.\n",
            "WARNING:tensorflow:From /usr/local/lib/python3.6/dist-packages/tensorflow/python/training/tracking/tracking.py:111: Layer.updates (from tensorflow.python.keras.engine.base_layer) is deprecated and will be removed in a future version.\n",
            "Instructions for updating:\n",
            "This property should not be used in TensorFlow 2.0, as updates are applied automatically.\n",
            "INFO:tensorflow:Assets written to: /content/drive/My Drive/Tensorflow/Practice/Models/Pneumonia/assets\n"
          ],
          "name": "stdout"
        }
      ]
    },
    {
      "cell_type": "code",
      "metadata": {
        "id": "Rd_YJps5YQ9I",
        "outputId": "3343722e-929b-4f39-851d-b49f3286916d",
        "colab": {
          "base_uri": "https://localhost:8080/",
          "height": 266
        }
      },
      "source": [
        "import matplotlib.pyplot as plt\n",
        "import seaborn as sb\n",
        "acc=history.history.get('acc')\n",
        "epoch=[i for i in range(1,16)]\n",
        "val_acc=history.history.get('val_acc')\n",
        "plt.plot(epoch,acc,color='blue')\n",
        "plt.plot(epoch,val_acc,color='red')\n",
        "plt.show()"
      ],
      "execution_count": null,
      "outputs": [
        {
          "output_type": "display_data",
          "data": {
            "image/png": "[encoded data removed]",
            "text/plain": [
              "<Figure size 432x288 with 1 Axes>"
            ]
          },
          "metadata": {
            "tags": [],
            "needs_background": "light"
          }
        }
      ]
    },
    {
      "cell_type": "code",
      "metadata": {
        "id": "t6NIY145aM-B",
        "outputId": "c4146d36-75e2-46e7-ede0-dca6cf1ec89f",
        "colab": {
          "base_uri": "https://localhost:8080/",
          "height": 34
        }
      },
      "source": [
        "from PIL import Image\n",
        "from google.colab import files\n",
        "import numpy\n",
        "im=Image.open(\"/content/drive/My Drive/Tensorflow/Practice/Pneumonia/chest_xray/val/NORMAL/NORMAL2-IM-1438-0001.jpeg\")\n",
        "im=im.resize((1000,1000))\n",
        "im=im.convert('RGB')\n",
        "a=numpy.asarray(im)/255\n",
        "a=a.reshape((1,1000,1000,3))\n",
        "print(a.shape)\n"
      ],
      "execution_count": null,
      "outputs": [
        {
          "output_type": "stream",
          "text": [
            "(1, 1000, 1000, 3)\n"
          ],
          "name": "stdout"
        }
      ]
    },
    {
      "cell_type": "code",
      "metadata": {
        "id": "LN271400jd9J",
        "outputId": "657847d3-aa14-4b41-83e4-f947a3516473",
        "colab": {
          "base_uri": "https://localhost:8080/",
          "height": 34
        }
      },
      "source": [
        "predictions=model.predict(a)\n",
        "print(predictions)"
      ],
      "execution_count": null,
      "outputs": [
        {
          "output_type": "stream",
          "text": [
            "[[0.4195613]]\n"
          ],
          "name": "stdout"
        }
      ]
    },
    {
      "cell_type": "code",
      "metadata": {
        "id": "psiMHtI8lFca",
        "outputId": "f6d1be67-fb80-4e08-c947-ac2d850029da",
        "colab": {
          "base_uri": "https://localhost:8080/",
          "height": 34
        }
      },
      "source": [
        "test_dir=\"/content/drive/My Drive/Tensorflow/Practice/Pneumonia/chest_xray/val\"\n",
        "test_datagen=ImageDataGenerator(rescale=1./255)\n",
        "test_generator=test_datagen.flow_from_directory(test_dir,target_size=(1000,1000),batch_size=1,class_mode='binary')\n"
      ],
      "execution_count": null,
      "outputs": [
        {
          "output_type": "stream",
          "text": [
            "Found 16 images belonging to 2 classes.\n"
          ],
          "name": "stdout"
        }
      ]
    },
    {
      "cell_type": "code",
      "metadata": {
        "id": "2TvF0OA_wBgh",
        "outputId": "3626dc7f-a063-4f0c-af36-8209529dab6a",
        "colab": {
          "base_uri": "https://localhost:8080/",
          "height": 34
        }
      },
      "source": [
        "eval=model.evaluate(test_generator)"
      ],
      "execution_count": null,
      "outputs": [
        {
          "output_type": "stream",
          "text": [
            "16/16 [==============================] - 0s 27ms/step - loss: 0.2829 - acc: 0.9375\n"
          ],
          "name": "stdout"
        }
      ]
    }
  ]
}